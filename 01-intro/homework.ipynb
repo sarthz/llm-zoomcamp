{
 "cells": [
  {
   "cell_type": "code",
   "execution_count": 1,
   "id": "ce716d71-83db-4286-bcb0-73d936a04b3f",
   "metadata": {},
   "outputs": [],
   "source": [
    "import openai"
   ]
  },
  {
   "cell_type": "code",
   "execution_count": 2,
   "id": "013e6e9d-adf3-4aeb-86d8-5c41d79ef365",
   "metadata": {},
   "outputs": [],
   "source": [
    "import os"
   ]
  },
  {
   "cell_type": "code",
   "execution_count": 3,
   "id": "c2314589-a939-4c8b-87cb-f845d8161f7f",
   "metadata": {},
   "outputs": [],
   "source": [
    "from openai import OpenAI"
   ]
  },
  {
   "cell_type": "code",
   "execution_count": 9,
   "id": "068c54ba-f506-4ebe-b46e-76086bd5eb1b",
   "metadata": {},
   "outputs": [],
   "source": [
    "client = OpenAI(api_key=os.getenv('OPENAI_API_KEY'))"
   ]
  },
  {
   "cell_type": "code",
   "execution_count": 12,
   "id": "968648b0-37e3-4075-b4e7-03a7e4823bba",
   "metadata": {},
   "outputs": [],
   "source": [
    "response=client.chat.completions.create(\n",
    "    # model='gpt-3.5-turbo',\n",
    "    model='gpt-4o',\n",
    "    # messages=[{\"role\":\"user\", \"content\":\"is it too late to join the course?\"}]\n",
    "    messages=[{\"role\":\"user\", \"content\":\"how many asteroids fall on the earth on average?\"}]\n",
    ")"
   ]
  },
  {
   "cell_type": "markdown",
   "id": "0c490512-1879-4880-bb15-8080cefaa1fb",
   "metadata": {},
   "source": [
    "### 1st try"
   ]
  },
  {
   "cell_type": "code",
   "execution_count": 11,
   "id": "d9c97419-c408-4dea-b151-c4c85145e7aa",
   "metadata": {},
   "outputs": [
    {
     "data": {
      "text/plain": [
       "ChatCompletion(id='chatcmpl-9m3ziZHaLD6iR3Sp5DJU82WLN077L', choices=[Choice(finish_reason='stop', index=0, logprobs=None, message=ChatCompletionMessage(content=\"It's never too late to explore your options! The possibility of joining a course depends on several factors, including the specific policies of the institution offering the course, the current stage of the course, and whether there are any available spots.\\n\\nHere are a few steps you can take to find out if you can still join the course:\\n\\n1. **Contact the Institution:** Reach out to the admissions office or the department offering the course directly. They can provide information on enrollment deadlines and availability.\\n\\n2. **Check Online:** Many institutions provide detailed course information, including enrollment deadlines, on their websites.\\n\\n3. **Consider Late Registration:** Some institutions allow for late registration or may offer an add/drop period at the beginning of the term.\\n\\n4. **Look for Alternatives:** If the registration period has closed, ask if there are other sections of the course or similar courses that you can join.\\n\\n5. **Online Courses:** If the in-person option isn't available, consider looking for an online version of the course. Many online platforms offer flexible enrollment dates.\\n\\n6. **Appeal Process:** Some institutions have an appeal process for late enrollment under special circumstances. If you have a compelling reason for your delay, it might be worth exploring this option.\\n\\nRemember, proactive communication is key. The sooner you reach out, the better your chances of finding a solution. Good luck!\", role='assistant', function_call=None, tool_calls=None))], created=1721242126, model='gpt-4o-2024-05-13', object='chat.completion', service_tier=None, system_fingerprint='fp_c4e5b6fa31', usage=CompletionUsage(completion_tokens=270, prompt_tokens=16, total_tokens=286))"
      ]
     },
     "execution_count": 11,
     "metadata": {},
     "output_type": "execute_result"
    }
   ],
   "source": [
    "response"
   ]
  },
  {
   "cell_type": "markdown",
   "id": "2f1f2ffb-bc4a-40b5-af60-a0d5e17bf621",
   "metadata": {},
   "source": [
    "### 2nd try"
   ]
  },
  {
   "cell_type": "code",
   "execution_count": 15,
   "id": "a66f0b9f-7155-4745-aef4-4df40aa6e740",
   "metadata": {},
   "outputs": [
    {
     "data": {
      "text/plain": [
       "'Asteroids and meteoroids regularly enter Earth\\'s atmosphere, but the vast majority are small and burn up upon entry, becoming meteors or \"shooting stars.\" \\n\\nIn terms of measurable impacts:\\n- **Small meteoroids**: Hundreds of tons of meteoritic material fall to Earth each day, most of it in the form of dust or small fragments.\\n- **Small meteorites**: Estimates suggest that about 17 meteoroids larger than a football reach the ground each day.\\n- **Larger impacts**: The very large impacts, like those that can create significant craters, occur far less frequently. For example, an object around 1 kilometer in diameter is expected to collide with Earth roughly once every 500,000 to 1,000,000 years.\\n\\nMost asteroids are burnt up in the atmosphere or land in oceans or uninhabited regions, minimizing their impact on human activity.'"
      ]
     },
     "execution_count": 15,
     "metadata": {},
     "output_type": "execute_result"
    }
   ],
   "source": [
    "response.choices[0].message.content"
   ]
  },
  {
   "cell_type": "code",
   "execution_count": null,
   "id": "5d9d9603-a2a1-4446-8134-2f17522519bc",
   "metadata": {},
   "outputs": [],
   "source": []
  }
 ],
 "metadata": {
  "kernelspec": {
   "display_name": "Python 3 (ipykernel)",
   "language": "python",
   "name": "python3"
  },
  "language_info": {
   "codemirror_mode": {
    "name": "ipython",
    "version": 3
   },
   "file_extension": ".py",
   "mimetype": "text/x-python",
   "name": "python",
   "nbconvert_exporter": "python",
   "pygments_lexer": "ipython3",
   "version": "3.10.13"
  }
 },
 "nbformat": 4,
 "nbformat_minor": 5
}
